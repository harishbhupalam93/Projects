{
 "cells": [
  {
   "cell_type": "code",
   "execution_count": 100,
   "id": "ef4ae19d-eb1f-4eb2-8845-eb9c072dd6a4",
   "metadata": {},
   "outputs": [],
   "source": [
    "import numpy as np\n",
    "import pandas as pd\n",
    "\n",
    "from sklearn.model_selection import train_test_split\n",
    "from sklearn.preprocessing import OneHotEncoder, StandardScaler, MinMaxScaler\n",
    "from sklearn.preprocessing import FunctionTransformer\n",
    "from sklearn.compose import ColumnTransformer\n",
    "from sklearn.pipeline import make_pipeline, Pipeline\n",
    "from sklearn.impute import SimpleImputer, KNNImputer\n",
    "from sklearn.linear_model import LinearRegression, LogisticRegression\n",
    "import statsmodels.api as sm\n",
    "from sklearn.tree import DecisionTreeClassifier, plot_tree\n",
    "from sklearn.ensemble import (\n",
    "    BaggingClassifier, \n",
    "    RandomForestClassifier, \n",
    "    ExtraTreesClassifier, \n",
    "    AdaBoostClassifier,\n",
    "    StackingClassifier,\n",
    "    GradientBoostingClassifier,\n",
    "    HistGradientBoostingClassifier\n",
    ")\n",
    "\n",
    "# to do PCA \n",
    "from sklearn.decomposition import PCA\n",
    "\n",
    "# for cross validation\n",
    "from sklearn.model_selection import cross_val_score, StratifiedKFold, KFold\n",
    "\n",
    "import sklearn.metrics as metrics\n",
    "from sklearn.metrics import (\n",
    "    mean_absolute_error,\n",
    "    mean_squared_error,\n",
    "    r2_score,\n",
    "    classification_report,\n",
    "    confusion_matrix,\n",
    "    ConfusionMatrixDisplay,\n",
    "    f1_score,\n",
    "    accuracy_score,\n",
    "    recall_score,\n",
    "    precision_score,\n",
    "    roc_auc_score,\n",
    "    precision_recall_curve,\n",
    "    roc_curve,\n",
    ")\n",
    "\n",
    "from joblib import dump\n",
    "from joblib import load\n",
    "\n",
    "\n",
    "from lightgbm import LGBMClassifier\n",
    "from xgboost import XGBClassifier\n",
    "\n",
    "from sklearn.model_selection import cross_val_score, cross_validate, cross_val_predict\n",
    "# To tune a model\n",
    "from sklearn.model_selection import GridSearchCV, RandomizedSearchCV\n",
    "\n",
    "import matplotlib.pyplot as plt\n",
    "import seaborn as sns\n",
    "\n",
    "from sklearn import set_config\n",
    "\n",
    "set_config(display='diagram')"
   ]
  },
  {
   "cell_type": "code",
   "execution_count": 101,
   "id": "e578c7d6-dd30-4c9a-804f-6096d122099d",
   "metadata": {},
   "outputs": [],
   "source": [
    "df = pd.read_csv('rapamycinGefitinibTrain.tsv', sep='\\t')"
   ]
  },
  {
   "cell_type": "code",
   "execution_count": 102,
   "id": "3daedd38-0891-4bb6-aa31-3492e0eb773a",
   "metadata": {},
   "outputs": [
    {
     "data": {
      "text/html": [
       "<div>\n",
       "<style scoped>\n",
       "    .dataframe tbody tr th:only-of-type {\n",
       "        vertical-align: middle;\n",
       "    }\n",
       "\n",
       "    .dataframe tbody tr th {\n",
       "        vertical-align: top;\n",
       "    }\n",
       "\n",
       "    .dataframe thead th {\n",
       "        text-align: right;\n",
       "    }\n",
       "</style>\n",
       "<table border=\"1\" class=\"dataframe\">\n",
       "  <thead>\n",
       "    <tr style=\"text-align: right;\">\n",
       "      <th></th>\n",
       "      <th>Rapamycin-Gefitinib_response</th>\n",
       "      <th>type</th>\n",
       "      <th>mut_C1orf222</th>\n",
       "      <th>mut_CAMTA1</th>\n",
       "      <th>mut_H6PD</th>\n",
       "      <th>mut_SPEN</th>\n",
       "      <th>mut_HSPG2</th>\n",
       "      <th>mut_ARID1A</th>\n",
       "      <th>mut_ZSCAN20</th>\n",
       "      <th>mut_CSMD2</th>\n",
       "      <th>...</th>\n",
       "      <th>rna_MAFIP</th>\n",
       "      <th>rna_CD24</th>\n",
       "      <th>rna_HLA-DRB3</th>\n",
       "      <th>rna_LOC389831</th>\n",
       "      <th>rna_MGC70870</th>\n",
       "      <th>rna_LOC100233156</th>\n",
       "      <th>rna_LOC389834</th>\n",
       "      <th>rna_LOC283788</th>\n",
       "      <th>rna_RNA5-8S5</th>\n",
       "      <th>rna_LOC102723780</th>\n",
       "    </tr>\n",
       "  </thead>\n",
       "  <tbody>\n",
       "    <tr>\n",
       "      <th>Breast_SQ68</th>\n",
       "      <td>1</td>\n",
       "      <td>Breast</td>\n",
       "      <td>0</td>\n",
       "      <td>0</td>\n",
       "      <td>0</td>\n",
       "      <td>0</td>\n",
       "      <td>0</td>\n",
       "      <td>0</td>\n",
       "      <td>1</td>\n",
       "      <td>0</td>\n",
       "      <td>...</td>\n",
       "      <td>1.765641</td>\n",
       "      <td>3.610263</td>\n",
       "      <td>0.000000</td>\n",
       "      <td>0.144895</td>\n",
       "      <td>0.109381</td>\n",
       "      <td>0.000000</td>\n",
       "      <td>0.377070</td>\n",
       "      <td>0.743830</td>\n",
       "      <td>7.430427</td>\n",
       "      <td>0.379076</td>\n",
       "    </tr>\n",
       "    <tr>\n",
       "      <th>Breast_EI813</th>\n",
       "      <td>0</td>\n",
       "      <td>Breast</td>\n",
       "      <td>0</td>\n",
       "      <td>0</td>\n",
       "      <td>0</td>\n",
       "      <td>0</td>\n",
       "      <td>0</td>\n",
       "      <td>0</td>\n",
       "      <td>0</td>\n",
       "      <td>0</td>\n",
       "      <td>...</td>\n",
       "      <td>0.683720</td>\n",
       "      <td>1.901263</td>\n",
       "      <td>0.000000</td>\n",
       "      <td>1.973497</td>\n",
       "      <td>0.560144</td>\n",
       "      <td>0.763473</td>\n",
       "      <td>0.508316</td>\n",
       "      <td>1.166169</td>\n",
       "      <td>9.509599</td>\n",
       "      <td>1.445901</td>\n",
       "    </tr>\n",
       "    <tr>\n",
       "      <th>Breast_PV9</th>\n",
       "      <td>0</td>\n",
       "      <td>Breast</td>\n",
       "      <td>0</td>\n",
       "      <td>0</td>\n",
       "      <td>0</td>\n",
       "      <td>0</td>\n",
       "      <td>1</td>\n",
       "      <td>0</td>\n",
       "      <td>1</td>\n",
       "      <td>0</td>\n",
       "      <td>...</td>\n",
       "      <td>2.985080</td>\n",
       "      <td>4.125750</td>\n",
       "      <td>0.160901</td>\n",
       "      <td>1.316661</td>\n",
       "      <td>0.265797</td>\n",
       "      <td>1.167377</td>\n",
       "      <td>1.316250</td>\n",
       "      <td>1.320358</td>\n",
       "      <td>7.672418</td>\n",
       "      <td>0.230426</td>\n",
       "    </tr>\n",
       "    <tr>\n",
       "      <th>Breast_KY76</th>\n",
       "      <td>0</td>\n",
       "      <td>Breast</td>\n",
       "      <td>0</td>\n",
       "      <td>0</td>\n",
       "      <td>0</td>\n",
       "      <td>0</td>\n",
       "      <td>0</td>\n",
       "      <td>0</td>\n",
       "      <td>0</td>\n",
       "      <td>0</td>\n",
       "      <td>...</td>\n",
       "      <td>0.442882</td>\n",
       "      <td>0.320471</td>\n",
       "      <td>0.077141</td>\n",
       "      <td>3.301013</td>\n",
       "      <td>0.063881</td>\n",
       "      <td>0.323250</td>\n",
       "      <td>0.515944</td>\n",
       "      <td>0.272920</td>\n",
       "      <td>4.727648</td>\n",
       "      <td>0.222489</td>\n",
       "    </tr>\n",
       "    <tr>\n",
       "      <th>Breast_EPQV2</th>\n",
       "      <td>1</td>\n",
       "      <td>Breast</td>\n",
       "      <td>0</td>\n",
       "      <td>0</td>\n",
       "      <td>0</td>\n",
       "      <td>1</td>\n",
       "      <td>0</td>\n",
       "      <td>1</td>\n",
       "      <td>0</td>\n",
       "      <td>0</td>\n",
       "      <td>...</td>\n",
       "      <td>3.361561</td>\n",
       "      <td>7.317910</td>\n",
       "      <td>0.071225</td>\n",
       "      <td>2.624524</td>\n",
       "      <td>0.108735</td>\n",
       "      <td>1.402040</td>\n",
       "      <td>1.296005</td>\n",
       "      <td>1.550906</td>\n",
       "      <td>10.491553</td>\n",
       "      <td>2.474496</td>\n",
       "    </tr>\n",
       "  </tbody>\n",
       "</table>\n",
       "<p>5 rows × 15990 columns</p>\n",
       "</div>"
      ],
      "text/plain": [
       "              Rapamycin-Gefitinib_response    type  mut_C1orf222  mut_CAMTA1  \\\n",
       "Breast_SQ68                              1  Breast             0           0   \n",
       "Breast_EI813                             0  Breast             0           0   \n",
       "Breast_PV9                               0  Breast             0           0   \n",
       "Breast_KY76                              0  Breast             0           0   \n",
       "Breast_EPQV2                             1  Breast             0           0   \n",
       "\n",
       "              mut_H6PD  mut_SPEN  mut_HSPG2  mut_ARID1A  mut_ZSCAN20  \\\n",
       "Breast_SQ68          0         0          0           0            1   \n",
       "Breast_EI813         0         0          0           0            0   \n",
       "Breast_PV9           0         0          1           0            1   \n",
       "Breast_KY76          0         0          0           0            0   \n",
       "Breast_EPQV2         0         1          0           1            0   \n",
       "\n",
       "              mut_CSMD2  ...  rna_MAFIP  rna_CD24  rna_HLA-DRB3  \\\n",
       "Breast_SQ68           0  ...   1.765641  3.610263      0.000000   \n",
       "Breast_EI813          0  ...   0.683720  1.901263      0.000000   \n",
       "Breast_PV9            0  ...   2.985080  4.125750      0.160901   \n",
       "Breast_KY76           0  ...   0.442882  0.320471      0.077141   \n",
       "Breast_EPQV2          0  ...   3.361561  7.317910      0.071225   \n",
       "\n",
       "              rna_LOC389831  rna_MGC70870  rna_LOC100233156  rna_LOC389834  \\\n",
       "Breast_SQ68        0.144895      0.109381          0.000000       0.377070   \n",
       "Breast_EI813       1.973497      0.560144          0.763473       0.508316   \n",
       "Breast_PV9         1.316661      0.265797          1.167377       1.316250   \n",
       "Breast_KY76        3.301013      0.063881          0.323250       0.515944   \n",
       "Breast_EPQV2       2.624524      0.108735          1.402040       1.296005   \n",
       "\n",
       "              rna_LOC283788  rna_RNA5-8S5  rna_LOC102723780  \n",
       "Breast_SQ68        0.743830      7.430427          0.379076  \n",
       "Breast_EI813       1.166169      9.509599          1.445901  \n",
       "Breast_PV9         1.320358      7.672418          0.230426  \n",
       "Breast_KY76        0.272920      4.727648          0.222489  \n",
       "Breast_EPQV2       1.550906     10.491553          2.474496  \n",
       "\n",
       "[5 rows x 15990 columns]"
      ]
     },
     "execution_count": 102,
     "metadata": {},
     "output_type": "execute_result"
    }
   ],
   "source": [
    "df.head()"
   ]
  },
  {
   "cell_type": "code",
   "execution_count": 103,
   "metadata": {},
   "outputs": [
    {
     "name": "stderr",
     "output_type": "stream",
     "text": [
      "C:\\Users\\madhu\\AppData\\Local\\Temp/ipykernel_12520/2875486294.py:1: FutureWarning: The default value of regex will change from True to False in a future version. In addition, single character regular expressions will *not* be treated as literal strings when regex=True.\n",
      "  df.columns = df.columns.str.replace('.', '-')\n"
     ]
    }
   ],
   "source": [
    "df.columns = df.columns.str.replace('.', '-')"
   ]
  },
  {
   "cell_type": "code",
   "execution_count": 104,
   "id": "17815fce-919c-41e5-b06a-8b0b35fd9b69",
   "metadata": {},
   "outputs": [
    {
     "data": {
      "text/html": [
       "<div>\n",
       "<style scoped>\n",
       "    .dataframe tbody tr th:only-of-type {\n",
       "        vertical-align: middle;\n",
       "    }\n",
       "\n",
       "    .dataframe tbody tr th {\n",
       "        vertical-align: top;\n",
       "    }\n",
       "\n",
       "    .dataframe thead th {\n",
       "        text-align: right;\n",
       "    }\n",
       "</style>\n",
       "<table border=\"1\" class=\"dataframe\">\n",
       "  <thead>\n",
       "    <tr style=\"text-align: right;\">\n",
       "      <th></th>\n",
       "      <th>Rapamycin-Gefitinib_response</th>\n",
       "      <th>mut_C1orf222</th>\n",
       "      <th>mut_CAMTA1</th>\n",
       "      <th>mut_H6PD</th>\n",
       "      <th>mut_SPEN</th>\n",
       "      <th>mut_HSPG2</th>\n",
       "      <th>mut_ARID1A</th>\n",
       "      <th>mut_ZSCAN20</th>\n",
       "      <th>mut_CSMD2</th>\n",
       "      <th>mut_MACF1</th>\n",
       "      <th>...</th>\n",
       "      <th>rna_RNA5-8S5</th>\n",
       "      <th>rna_LOC102723780</th>\n",
       "      <th>type_Bowel</th>\n",
       "      <th>type_BrainCNS</th>\n",
       "      <th>type_Breast</th>\n",
       "      <th>type_Kidney</th>\n",
       "      <th>type_Lung</th>\n",
       "      <th>type_Ovary</th>\n",
       "      <th>type_Prostate</th>\n",
       "      <th>type_Skin</th>\n",
       "    </tr>\n",
       "  </thead>\n",
       "  <tbody>\n",
       "    <tr>\n",
       "      <th>Breast_SQ68</th>\n",
       "      <td>1</td>\n",
       "      <td>0</td>\n",
       "      <td>0</td>\n",
       "      <td>0</td>\n",
       "      <td>0</td>\n",
       "      <td>0</td>\n",
       "      <td>0</td>\n",
       "      <td>1</td>\n",
       "      <td>0</td>\n",
       "      <td>0</td>\n",
       "      <td>...</td>\n",
       "      <td>7.430427</td>\n",
       "      <td>0.379076</td>\n",
       "      <td>0</td>\n",
       "      <td>0</td>\n",
       "      <td>1</td>\n",
       "      <td>0</td>\n",
       "      <td>0</td>\n",
       "      <td>0</td>\n",
       "      <td>0</td>\n",
       "      <td>0</td>\n",
       "    </tr>\n",
       "    <tr>\n",
       "      <th>Breast_EI813</th>\n",
       "      <td>0</td>\n",
       "      <td>0</td>\n",
       "      <td>0</td>\n",
       "      <td>0</td>\n",
       "      <td>0</td>\n",
       "      <td>0</td>\n",
       "      <td>0</td>\n",
       "      <td>0</td>\n",
       "      <td>0</td>\n",
       "      <td>0</td>\n",
       "      <td>...</td>\n",
       "      <td>9.509599</td>\n",
       "      <td>1.445901</td>\n",
       "      <td>0</td>\n",
       "      <td>0</td>\n",
       "      <td>1</td>\n",
       "      <td>0</td>\n",
       "      <td>0</td>\n",
       "      <td>0</td>\n",
       "      <td>0</td>\n",
       "      <td>0</td>\n",
       "    </tr>\n",
       "    <tr>\n",
       "      <th>Breast_PV9</th>\n",
       "      <td>0</td>\n",
       "      <td>0</td>\n",
       "      <td>0</td>\n",
       "      <td>0</td>\n",
       "      <td>0</td>\n",
       "      <td>1</td>\n",
       "      <td>0</td>\n",
       "      <td>1</td>\n",
       "      <td>0</td>\n",
       "      <td>0</td>\n",
       "      <td>...</td>\n",
       "      <td>7.672418</td>\n",
       "      <td>0.230426</td>\n",
       "      <td>0</td>\n",
       "      <td>0</td>\n",
       "      <td>1</td>\n",
       "      <td>0</td>\n",
       "      <td>0</td>\n",
       "      <td>0</td>\n",
       "      <td>0</td>\n",
       "      <td>0</td>\n",
       "    </tr>\n",
       "    <tr>\n",
       "      <th>Breast_KY76</th>\n",
       "      <td>0</td>\n",
       "      <td>0</td>\n",
       "      <td>0</td>\n",
       "      <td>0</td>\n",
       "      <td>0</td>\n",
       "      <td>0</td>\n",
       "      <td>0</td>\n",
       "      <td>0</td>\n",
       "      <td>0</td>\n",
       "      <td>0</td>\n",
       "      <td>...</td>\n",
       "      <td>4.727648</td>\n",
       "      <td>0.222489</td>\n",
       "      <td>0</td>\n",
       "      <td>0</td>\n",
       "      <td>1</td>\n",
       "      <td>0</td>\n",
       "      <td>0</td>\n",
       "      <td>0</td>\n",
       "      <td>0</td>\n",
       "      <td>0</td>\n",
       "    </tr>\n",
       "    <tr>\n",
       "      <th>Breast_EPQV2</th>\n",
       "      <td>1</td>\n",
       "      <td>0</td>\n",
       "      <td>0</td>\n",
       "      <td>0</td>\n",
       "      <td>1</td>\n",
       "      <td>0</td>\n",
       "      <td>1</td>\n",
       "      <td>0</td>\n",
       "      <td>0</td>\n",
       "      <td>0</td>\n",
       "      <td>...</td>\n",
       "      <td>10.491553</td>\n",
       "      <td>2.474496</td>\n",
       "      <td>0</td>\n",
       "      <td>0</td>\n",
       "      <td>1</td>\n",
       "      <td>0</td>\n",
       "      <td>0</td>\n",
       "      <td>0</td>\n",
       "      <td>0</td>\n",
       "      <td>0</td>\n",
       "    </tr>\n",
       "  </tbody>\n",
       "</table>\n",
       "<p>5 rows × 15997 columns</p>\n",
       "</div>"
      ],
      "text/plain": [
       "              Rapamycin-Gefitinib_response  mut_C1orf222  mut_CAMTA1  \\\n",
       "Breast_SQ68                              1             0           0   \n",
       "Breast_EI813                             0             0           0   \n",
       "Breast_PV9                               0             0           0   \n",
       "Breast_KY76                              0             0           0   \n",
       "Breast_EPQV2                             1             0           0   \n",
       "\n",
       "              mut_H6PD  mut_SPEN  mut_HSPG2  mut_ARID1A  mut_ZSCAN20  \\\n",
       "Breast_SQ68          0         0          0           0            1   \n",
       "Breast_EI813         0         0          0           0            0   \n",
       "Breast_PV9           0         0          1           0            1   \n",
       "Breast_KY76          0         0          0           0            0   \n",
       "Breast_EPQV2         0         1          0           1            0   \n",
       "\n",
       "              mut_CSMD2  mut_MACF1  ...  rna_RNA5-8S5  rna_LOC102723780  \\\n",
       "Breast_SQ68           0          0  ...      7.430427          0.379076   \n",
       "Breast_EI813          0          0  ...      9.509599          1.445901   \n",
       "Breast_PV9            0          0  ...      7.672418          0.230426   \n",
       "Breast_KY76           0          0  ...      4.727648          0.222489   \n",
       "Breast_EPQV2          0          0  ...     10.491553          2.474496   \n",
       "\n",
       "              type_Bowel  type_BrainCNS  type_Breast  type_Kidney  type_Lung  \\\n",
       "Breast_SQ68            0              0            1            0          0   \n",
       "Breast_EI813           0              0            1            0          0   \n",
       "Breast_PV9             0              0            1            0          0   \n",
       "Breast_KY76            0              0            1            0          0   \n",
       "Breast_EPQV2           0              0            1            0          0   \n",
       "\n",
       "              type_Ovary  type_Prostate  type_Skin  \n",
       "Breast_SQ68            0              0          0  \n",
       "Breast_EI813           0              0          0  \n",
       "Breast_PV9             0              0          0  \n",
       "Breast_KY76            0              0          0  \n",
       "Breast_EPQV2           0              0          0  \n",
       "\n",
       "[5 rows x 15997 columns]"
      ]
     },
     "execution_count": 104,
     "metadata": {},
     "output_type": "execute_result"
    }
   ],
   "source": [
    "df = pd.get_dummies(df, columns=['type'], drop_first=True)\n",
    "df.head()"
   ]
  },
  {
   "cell_type": "code",
   "execution_count": 105,
   "id": "c585a486-9a34-4eca-805a-1274b2b33b02",
   "metadata": {},
   "outputs": [],
   "source": [
    "# variances = df.var()\n",
    "\n",
    "# # Get column indices where variance is zero\n",
    "# zero_variance_cols = variances[variances == 0].index"
   ]
  },
  {
   "cell_type": "code",
   "execution_count": 106,
   "id": "9ec6e8d6-ee9f-4520-a3a3-2cbdd0285871",
   "metadata": {},
   "outputs": [],
   "source": [
    "# # Drop columns with zero variance\n",
    "# df = df.drop(columns=zero_variance_cols)\n",
    "# df.shape"
   ]
  },
  {
   "cell_type": "markdown",
   "id": "4c72bf7f-d6c8-4c65-87f1-0b266e6c725a",
   "metadata": {},
   "source": [
    "# SPLITTING "
   ]
  },
  {
   "cell_type": "code",
   "execution_count": 107,
   "id": "cd6abd53-9742-4c07-af0d-5f4a612f105d",
   "metadata": {},
   "outputs": [],
   "source": [
    "X = df.drop('Rapamycin-Gefitinib_response', axis = 1)\n",
    "y = df['Rapamycin-Gefitinib_response']"
   ]
  },
  {
   "cell_type": "code",
   "execution_count": 108,
   "id": "2973aa22-3b3d-431d-9c90-b0a20a7da462",
   "metadata": {},
   "outputs": [
    {
     "data": {
      "text/plain": [
       "0    26\n",
       "1    22\n",
       "Name: Rapamycin-Gefitinib_response, dtype: int64"
      ]
     },
     "execution_count": 108,
     "metadata": {},
     "output_type": "execute_result"
    }
   ],
   "source": [
    "y.value_counts()"
   ]
  },
  {
   "cell_type": "code",
   "execution_count": 109,
   "id": "19a103f4-9029-44be-a79e-3f770ae1a91d",
   "metadata": {},
   "outputs": [
    {
     "name": "stdout",
     "output_type": "stream",
     "text": [
      "Number of rows in train data = 38\n",
      "Number of rows in test data = 10\n"
     ]
    }
   ],
   "source": [
    "X_train, X_test, y_train, y_test = train_test_split(X, y, test_size=0.2, random_state=4, stratify = y)\n",
    "print(\"Number of rows in train data =\", X_train.shape[0])\n",
    "print(\"Number of rows in test data =\", X_test.shape[0])"
   ]
  },
  {
   "cell_type": "code",
   "execution_count": 110,
   "id": "40dbc8e1-1542-46bf-b601-d7089d95b7cb",
   "metadata": {},
   "outputs": [
    {
     "data": {
      "text/plain": [
       "0    5\n",
       "1    5\n",
       "Name: Rapamycin-Gefitinib_response, dtype: int64"
      ]
     },
     "execution_count": 110,
     "metadata": {},
     "output_type": "execute_result"
    }
   ],
   "source": [
    "y_test.value_counts()"
   ]
  },
  {
   "cell_type": "markdown",
   "id": "18ad1bcf-eb48-4919-9ee6-7cde9636d919",
   "metadata": {
    "tags": []
   },
   "source": [
    "# SCALING"
   ]
  },
  {
   "cell_type": "code",
   "execution_count": 111,
   "id": "7b09e04a-949e-463a-95c0-a22c8bb4ca82",
   "metadata": {},
   "outputs": [],
   "source": [
    "scaler = MinMaxScaler()\n",
    " \n",
    "# Scale the Data\n",
    "X_train = pd.DataFrame(scaler.fit_transform(X_train), columns=X.columns)\n",
    "X_test = pd.DataFrame(scaler.transform(X_test), columns=X.columns)"
   ]
  },
  {
   "cell_type": "markdown",
   "id": "d4e01350-ad9e-4a75-ae82-d437d4825e68",
   "metadata": {
    "tags": []
   },
   "source": [
    "# MODELLING PART"
   ]
  },
  {
   "cell_type": "code",
   "execution_count": 112,
   "id": "2308d11d-f96e-4399-91e6-6b3832d551d8",
   "metadata": {},
   "outputs": [],
   "source": [
    "# Load the trained models from the file\n",
    "repa_model = load('repa_lasso.joblib')\n",
    "gefit_model = load('gefit_lasso.joblib')"
   ]
  },
  {
   "cell_type": "code",
   "execution_count": 113,
   "id": "45d9ef9f-28be-46d1-a19e-06e3ac01c1bd",
   "metadata": {},
   "outputs": [],
   "source": [
    "# Predict on the train set\n",
    "repa = repa_model.predict(X_train)\n",
    "gefit = gefit_model.predict(X_train)"
   ]
  },
  {
   "cell_type": "code",
   "execution_count": 114,
   "id": "16196372-c064-445e-bc7d-9df1040e893c",
   "metadata": {},
   "outputs": [],
   "source": [
    "# Predict on the test set\n",
    "repa_test = repa_model.predict(X_test)\n",
    "gefit_test = gefit_model.predict(X_test)"
   ]
  },
  {
   "cell_type": "code",
   "execution_count": 115,
   "id": "2a47c6b4-0bd0-4598-aeaa-ff8ebf41dfdb",
   "metadata": {},
   "outputs": [
    {
     "data": {
      "text/html": [
       "<div>\n",
       "<style scoped>\n",
       "    .dataframe tbody tr th:only-of-type {\n",
       "        vertical-align: middle;\n",
       "    }\n",
       "\n",
       "    .dataframe tbody tr th {\n",
       "        vertical-align: top;\n",
       "    }\n",
       "\n",
       "    .dataframe thead th {\n",
       "        text-align: right;\n",
       "    }\n",
       "</style>\n",
       "<table border=\"1\" class=\"dataframe\">\n",
       "  <thead>\n",
       "    <tr style=\"text-align: right;\">\n",
       "      <th></th>\n",
       "      <th>Repa</th>\n",
       "      <th>Gefit</th>\n",
       "    </tr>\n",
       "  </thead>\n",
       "  <tbody>\n",
       "    <tr>\n",
       "      <th>0</th>\n",
       "      <td>0</td>\n",
       "      <td>0</td>\n",
       "    </tr>\n",
       "    <tr>\n",
       "      <th>1</th>\n",
       "      <td>0</td>\n",
       "      <td>1</td>\n",
       "    </tr>\n",
       "    <tr>\n",
       "      <th>2</th>\n",
       "      <td>1</td>\n",
       "      <td>0</td>\n",
       "    </tr>\n",
       "    <tr>\n",
       "      <th>3</th>\n",
       "      <td>0</td>\n",
       "      <td>0</td>\n",
       "    </tr>\n",
       "    <tr>\n",
       "      <th>4</th>\n",
       "      <td>0</td>\n",
       "      <td>0</td>\n",
       "    </tr>\n",
       "  </tbody>\n",
       "</table>\n",
       "</div>"
      ],
      "text/plain": [
       "   Repa  Gefit\n",
       "0     0      0\n",
       "1     0      1\n",
       "2     1      0\n",
       "3     0      0\n",
       "4     0      0"
      ]
     },
     "execution_count": 115,
     "metadata": {},
     "output_type": "execute_result"
    }
   ],
   "source": [
    "induvidual = pd.DataFrame({'Repa': repa, 'Gefit': gefit})\n",
    "induvidual.head()"
   ]
  },
  {
   "cell_type": "code",
   "execution_count": 116,
   "id": "ec24a983-a5ba-4172-9f44-b429002f65d5",
   "metadata": {},
   "outputs": [
    {
     "data": {
      "text/html": [
       "<div>\n",
       "<style scoped>\n",
       "    .dataframe tbody tr th:only-of-type {\n",
       "        vertical-align: middle;\n",
       "    }\n",
       "\n",
       "    .dataframe tbody tr th {\n",
       "        vertical-align: top;\n",
       "    }\n",
       "\n",
       "    .dataframe thead th {\n",
       "        text-align: right;\n",
       "    }\n",
       "</style>\n",
       "<table border=\"1\" class=\"dataframe\">\n",
       "  <thead>\n",
       "    <tr style=\"text-align: right;\">\n",
       "      <th></th>\n",
       "      <th>Repa</th>\n",
       "      <th>Gefit</th>\n",
       "    </tr>\n",
       "  </thead>\n",
       "  <tbody>\n",
       "    <tr>\n",
       "      <th>0</th>\n",
       "      <td>0</td>\n",
       "      <td>0</td>\n",
       "    </tr>\n",
       "    <tr>\n",
       "      <th>1</th>\n",
       "      <td>1</td>\n",
       "      <td>0</td>\n",
       "    </tr>\n",
       "    <tr>\n",
       "      <th>2</th>\n",
       "      <td>1</td>\n",
       "      <td>1</td>\n",
       "    </tr>\n",
       "    <tr>\n",
       "      <th>3</th>\n",
       "      <td>1</td>\n",
       "      <td>1</td>\n",
       "    </tr>\n",
       "    <tr>\n",
       "      <th>4</th>\n",
       "      <td>0</td>\n",
       "      <td>1</td>\n",
       "    </tr>\n",
       "  </tbody>\n",
       "</table>\n",
       "</div>"
      ],
      "text/plain": [
       "   Repa  Gefit\n",
       "0     0      0\n",
       "1     1      0\n",
       "2     1      1\n",
       "3     1      1\n",
       "4     0      1"
      ]
     },
     "execution_count": 116,
     "metadata": {},
     "output_type": "execute_result"
    }
   ],
   "source": [
    "induvidual_test = pd.DataFrame({'Repa': repa_test, 'Gefit': gefit_test})\n",
    "induvidual_test.head()"
   ]
  },
  {
   "cell_type": "code",
   "execution_count": 117,
   "id": "394a5044-9b48-435f-9ad8-4ee30445dd12",
   "metadata": {},
   "outputs": [
    {
     "data": {
      "text/plain": [
       "['repa_gef.joblib']"
      ]
     },
     "execution_count": 117,
     "metadata": {},
     "output_type": "execute_result"
    }
   ],
   "source": [
    "lasso_logreg = LogisticRegression(random_state = 4)\n",
    "lasso_logreg.fit(induvidual, y_train)\n",
    "\n",
    "# Save the trained model to a file\n",
    "dump(lasso_logreg, 'repa_gef.joblib')"
   ]
  },
  {
   "cell_type": "code",
   "execution_count": 118,
   "id": "797bd44d-72b5-42af-8183-4c1431a5826d",
   "metadata": {},
   "outputs": [
    {
     "name": "stdout",
     "output_type": "stream",
     "text": [
      "Train Accuracy: 0.631578947368421\n"
     ]
    }
   ],
   "source": [
    "# Predict on the train set\n",
    "y_pred = lasso_logreg.predict(induvidual)\n",
    "\n",
    "# Calculate accuracy on the train set\n",
    "accuracy = accuracy_score(y_train, y_pred)\n",
    "print(\"Train Accuracy:\", accuracy)"
   ]
  },
  {
   "cell_type": "code",
   "execution_count": 119,
   "id": "fb958178-aa62-43b8-9c3d-eaa45210ebd5",
   "metadata": {},
   "outputs": [
    {
     "name": "stdout",
     "output_type": "stream",
     "text": [
      "Test Accuracy: 0.3\n"
     ]
    }
   ],
   "source": [
    "# Predict on the test set\n",
    "y_pred = lasso_logreg.predict(induvidual_test)\n",
    "\n",
    "# Calculate accuracy on the test set\n",
    "accuracy = accuracy_score(y_test, y_pred)\n",
    "print(\"Test Accuracy:\", accuracy)"
   ]
  },
  {
   "cell_type": "code",
   "execution_count": 120,
   "id": "5a57d12d-e30f-419b-a060-eb38af1efaf2",
   "metadata": {},
   "outputs": [
    {
     "data": {
      "text/plain": [
       "BrainCNS_QMQT2    0\n",
       "Breast_PV9        0\n",
       "Ovary_PM7         1\n",
       "Lung_ND782        1\n",
       "Kidney_SZ892      0\n",
       "Skin_GMZV17       0\n",
       "Lung_MN34         1\n",
       "Bowel_KRW49       0\n",
       "Kidney_SA2        1\n",
       "BrainCNS_NZ6      1\n",
       "Name: Rapamycin-Gefitinib_response, dtype: int64"
      ]
     },
     "execution_count": 120,
     "metadata": {},
     "output_type": "execute_result"
    }
   ],
   "source": [
    "y_test"
   ]
  },
  {
   "cell_type": "code",
   "execution_count": 121,
   "id": "8ed44292-c1a3-415d-a7be-87b4cf5924e6",
   "metadata": {},
   "outputs": [
    {
     "data": {
      "text/plain": [
       "array([0.38939138, 0.50947976, 0.48612077, 0.48612077, 0.36741421,\n",
       "       0.50947976, 0.38939138, 0.38939138, 0.38939138, 0.38939138])"
      ]
     },
     "execution_count": 121,
     "metadata": {},
     "output_type": "execute_result"
    }
   ],
   "source": [
    "pred_test = lasso_logreg.predict_proba(induvidual_test)[:,1]\n",
    "pred_test"
   ]
  },
  {
   "cell_type": "code",
   "execution_count": 122,
   "metadata": {},
   "outputs": [
    {
     "name": "stdout",
     "output_type": "stream",
     "text": [
      "Coefficients: [[ 0.48779485 -0.09345478]]\n",
      "Intercept: [-0.44987124]\n"
     ]
    }
   ],
   "source": [
    "# Retrieve coefficients and intercept\n",
    "coefficients = lasso_logreg.coef_\n",
    "intercept = lasso_logreg.intercept_\n",
    "\n",
    "print(\"Coefficients:\", coefficients)\n",
    "print(\"Intercept:\", intercept)"
   ]
  },
  {
   "cell_type": "code",
   "execution_count": 123,
   "id": "fddb7682-1307-4f8a-b8b0-47c866657fea",
   "metadata": {},
   "outputs": [
    {
     "name": "stdout",
     "output_type": "stream",
     "text": [
      "Coefficients:\n",
      "Repa: 0.4877948460036033\n",
      "Gefit: -0.09345477578878315\n"
     ]
    }
   ],
   "source": [
    "# Retrieve coefficients greater than zero and their column indices\n",
    "coefficients = lasso_logreg.coef_[0]  # Assuming binary classification, extracting coefficients for the first class\n",
    "\n",
    "non_zero_coefficients = [(index, coef) for index, coef in enumerate(coefficients) if coef != 0]\n",
    "\n",
    "sorted_coefficients = sorted(non_zero_coefficients, key=lambda x: abs(x[1]), reverse=True)\n",
    "\n",
    "print(\"Coefficients:\")\n",
    "for index, coef in sorted_coefficients:\n",
    "    print(f\"{induvidual.columns[index]}: {coef}\")"
   ]
  },
  {
   "cell_type": "code",
   "execution_count": 124,
   "metadata": {},
   "outputs": [
    {
     "data": {
      "text/plain": [
       "['Repa', 'Gefit']"
      ]
     },
     "execution_count": 124,
     "metadata": {},
     "output_type": "execute_result"
    }
   ],
   "source": [
    "columns = []\n",
    "for index, coef in non_zero_coefficients:\n",
    "    columns.append(induvidual.columns[index])\n",
    "\n",
    "columns"
   ]
  },
  {
   "cell_type": "code",
   "execution_count": 125,
   "metadata": {},
   "outputs": [
    {
     "data": {
      "text/plain": [
       "2"
      ]
     },
     "execution_count": 125,
     "metadata": {},
     "output_type": "execute_result"
    }
   ],
   "source": [
    "len(columns)"
   ]
  },
  {
   "cell_type": "code",
   "execution_count": null,
   "metadata": {},
   "outputs": [],
   "source": []
  }
 ],
 "metadata": {
  "kernelspec": {
   "display_name": "Python 3 (ipykernel)",
   "language": "python",
   "name": "python3"
  },
  "language_info": {
   "codemirror_mode": {
    "name": "ipython",
    "version": 3
   },
   "file_extension": ".py",
   "mimetype": "text/x-python",
   "name": "python",
   "nbconvert_exporter": "python",
   "pygments_lexer": "ipython3",
   "version": "3.9.7"
  }
 },
 "nbformat": 4,
 "nbformat_minor": 5
}
